{
 "cells": [
  {
   "cell_type": "code",
   "execution_count": 1,
   "metadata": {},
   "outputs": [
    {
     "name": "stdout",
     "output_type": "stream",
     "text": [
      "['ButttonData', '3', 'ACTION_DOWN', '1530620254016', '162656629']\n",
      "['ButttonData', '3', 'ACTION_UP', '1530620256112', '162658727']\n",
      "['accelerometer', '1.1188049', '4.355835', '9.313141', '1530620252677', '468703532067256']\n",
      "['gyroscope', '0.075149536', '0.36915588', '-0.046432495', '1530620252680', '468703539971308']\n"
     ]
    }
   ],
   "source": [
    "btn_file = \"./data_three_people/btndata.txt\"\n",
    "sensor_file = \"./data_three_people/test.txt\"\n",
    "cat = 15\n",
    "btn_raw = []\n",
    "sensor_raw = []\n",
    "with open(btn_file) as f:\n",
    "    btn_raw = f.readlines()\n",
    "    for i in range(len(btn_raw)):\n",
    "        btn_raw[i] = btn_raw[i].strip(\"\\n\").split(\"||\")\n",
    "    print(btn_raw[0])\n",
    "    print(btn_raw[1])\n",
    "    f.close()\n",
    "    \n",
    "with open(sensor_file) as f:\n",
    "    sensor_raw = f.readlines()\n",
    "    for i in range(len(sensor_raw)):\n",
    "        sensor_raw[i] = sensor_raw[i].strip(\"\\n\").split(\"||\")\n",
    "    print(sensor_raw[0])\n",
    "    print(sensor_raw[3])\n",
    "    f.close()"
   ]
  },
  {
   "cell_type": "code",
   "execution_count": 21,
   "metadata": {},
   "outputs": [
    {
     "name": "stdout",
     "output_type": "stream",
     "text": [
      "768 901128\n"
     ]
    }
   ],
   "source": [
    "data_am = [[] for i in range(cat)]\n",
    "data_gy = [[] for i in range(cat)]\n",
    "for i in range(len(btn_raw)//2):\n",
    "    botton = int(btn_raw[2*i][1])\n",
    "    down = int(btn_raw[2*i][3])\n",
    "    up = int(btn_raw[2*i+1][3])\n",
    "    accelerometer = []\n",
    "    gyroscope = []\n",
    "    token = False\n",
    "    for j in range(len(sensor_raw)):\n",
    "        time = int(sensor_raw[j][4])\n",
    "        if(time>down and time<up):\n",
    "            token = True\n",
    "            if(sensor_raw[j][0] == 'accelerometer'):\n",
    "                accelerometer.append(sensor_raw[j][1:4])\n",
    "            elif(sensor_raw[j][0] == 'gyroscope'):\n",
    "                gyroscope.append(sensor_raw[j][1:4])\n",
    "        if(token and time>up):\n",
    "            break\n",
    "        if(len(gyroscope)==1000):\n",
    "            print(i,j)\n",
    "            break\n",
    "    if(len(gyroscope)>50):        \n",
    "        data_am[botton].append(accelerometer)\n",
    "        data_gy[botton].append(gyroscope)"
   ]
  },
  {
   "cell_type": "code",
   "execution_count": 3,
   "metadata": {},
   "outputs": [],
   "source": [
    "#for i in range(len(data_am)):\n",
    "#    for j in range(len(data_am[i])):\n",
    "#        print(len(data_am[i][j]))"
   ]
  },
  {
   "cell_type": "code",
   "execution_count": 22,
   "metadata": {},
   "outputs": [],
   "source": [
    "arg_am = []\n",
    "for i in range(len(data_am)):\n",
    "    arg_am.append([])\n",
    "    for j in range(len(data_am[i])):\n",
    "        arg_am[i].append([])\n",
    "        arg_am[i][j] = data_am[i][j]\n",
    "        while(len(arg_am[i][j])<1000):\n",
    "            arg_am[i][j].append(arg_am[i][j][-1])\n",
    "        assert len(arg_am[i][j])==1000"
   ]
  },
  {
   "cell_type": "code",
   "execution_count": null,
   "metadata": {},
   "outputs": [],
   "source": [
    "#arg_am"
   ]
  },
  {
   "cell_type": "code",
   "execution_count": null,
   "metadata": {},
   "outputs": [],
   "source": [
    "#for i in range(len(arg_am)):\n",
    "#    for j in range(len(arg_am[i])):\n",
    "#        print(len(arg_am[i][j]))"
   ]
  },
  {
   "cell_type": "code",
   "execution_count": null,
   "metadata": {},
   "outputs": [],
   "source": [
    "#for i in range(len(data_gy)):\n",
    "#    for j in range(len(data_gy[i])):\n",
    "#        print(len(data_gy[i][j]))"
   ]
  },
  {
   "cell_type": "code",
   "execution_count": 23,
   "metadata": {},
   "outputs": [],
   "source": [
    "arg_gy = []\n",
    "for i in range(len(data_gy)):\n",
    "    arg_gy.append([])\n",
    "    for j in range(len(data_gy[i])):\n",
    "        arg_gy[i].append([])\n",
    "        arg_gy[i][j] = data_gy[i][j]\n",
    "        while(len(arg_gy[i][j])<1000):\n",
    "            arg_gy[i][j].append(arg_gy[i][j][-1])"
   ]
  },
  {
   "cell_type": "code",
   "execution_count": null,
   "metadata": {},
   "outputs": [],
   "source": [
    "#for i in range(len(arg_gy)):\n",
    "#    for j in range(len(arg_gy[i])):\n",
    "#        print(len(arg_gy[i][j]))"
   ]
  },
  {
   "cell_type": "code",
   "execution_count": 24,
   "metadata": {},
   "outputs": [],
   "source": [
    "data = []\n",
    "for i in range(len(data_gy)):\n",
    "    data.append([])\n",
    "    for j in range(len(data_gy[i])):\n",
    "        data[i].append([])\n",
    "        data[i][j] = data_am[i][j]\n",
    "        data[i][j].extend(data_gy[i][j])"
   ]
  },
  {
   "cell_type": "code",
   "execution_count": null,
   "metadata": {},
   "outputs": [],
   "source": [
    "#for i in range(len(data)):\n",
    "#    for j in range(len(data[i])):\n",
    "#        print(len(data[i][j]))"
   ]
  },
  {
   "cell_type": "code",
   "execution_count": 25,
   "metadata": {},
   "outputs": [],
   "source": [
    "data_x = []\n",
    "data_y = []\n",
    "for i in range(len(data)):\n",
    "    for j in range(len(data[i])):\n",
    "        data_y.append(i)\n",
    "        data_x.append(data[i][j])"
   ]
  },
  {
   "cell_type": "code",
   "execution_count": 27,
   "metadata": {},
   "outputs": [],
   "source": [
    "import numpy as np"
   ]
  },
  {
   "cell_type": "code",
   "execution_count": 28,
   "metadata": {},
   "outputs": [],
   "source": [
    "data_x = np.array(data_x).astype(np.float64)\n",
    "data_y = np.array(data_y).astype(np.float64)"
   ]
  },
  {
   "cell_type": "code",
   "execution_count": 29,
   "metadata": {},
   "outputs": [],
   "source": [
    "data_x = np.reshape(data_x,(-1,6000))\n",
    "data_y = np.reshape(data_y,(-1,1))"
   ]
  },
  {
   "cell_type": "code",
   "execution_count": 30,
   "metadata": {},
   "outputs": [
    {
     "name": "stdout",
     "output_type": "stream",
     "text": [
      "(857, 6000)\n",
      "(857, 1)\n"
     ]
    }
   ],
   "source": [
    "print(data_x.shape)\n",
    "print(data_y.shape)"
   ]
  },
  {
   "cell_type": "code",
   "execution_count": 31,
   "metadata": {},
   "outputs": [
    {
     "name": "stderr",
     "output_type": "stream",
     "text": [
      "/usr/local/lib/python3.5/dist-packages/h5py/__init__.py:34: FutureWarning: Conversion of the second argument of issubdtype from `float` to `np.floating` is deprecated. In future, it will be treated as `np.float64 == np.dtype(float).type`.\n",
      "  from ._conv import register_converters as _register_converters\n",
      "Using TensorFlow backend.\n"
     ]
    }
   ],
   "source": [
    "import numpy as np\n",
    "import matplotlib.pyplot as plt\n",
    "%matplotlib inline\n",
    "from keras.models import Sequential\n",
    "from keras.layers import Dense, Dropout, Flatten, Conv2D, MaxPool2D, BatchNormalization\n",
    "from keras.optimizers import Adam\n",
    "from keras.utils.np_utils import to_categorical # convert to one-hot-encoding\n",
    "from sklearn.model_selection import train_test_split\n",
    "from sklearn.metrics import confusion_matrix\n",
    "from keras.preprocessing.image import ImageDataGenerator\n",
    "from keras.callbacks import LearningRateScheduler"
   ]
  },
  {
   "cell_type": "code",
   "execution_count": 32,
   "metadata": {},
   "outputs": [],
   "source": [
    "x_train, x_dev, y_train, y_dev = train_test_split(data_x, data_y, test_size=0.2,random_state=0)"
   ]
  },
  {
   "cell_type": "code",
   "execution_count": 33,
   "metadata": {},
   "outputs": [],
   "source": [
    "y_train = to_categorical(y_train)\n",
    "y_dev = to_categorical(y_dev)"
   ]
  },
  {
   "cell_type": "code",
   "execution_count": 34,
   "metadata": {},
   "outputs": [
    {
     "data": {
      "text/plain": [
       "Text(0.5,1,'data')"
      ]
     },
     "execution_count": 34,
     "metadata": {},
     "output_type": "execute_result"
    },
    {
     "data": {
      "image/png": "[encoded data removed]",
      "text/plain": [
       "<matplotlib.figure.Figure at 0x7f14ff122dd8>"
      ]
     },
     "metadata": {},
     "output_type": "display_data"
    }
   ],
   "source": [
    "fig, ax = plt.subplots(1, 1, figsize=(12,6))\n",
    "ax.plot(x_train[0])\n",
    "ax.set_title('data')"
   ]
  },
  {
   "cell_type": "code",
   "execution_count": 40,
   "metadata": {},
   "outputs": [],
   "source": [
    "model = Sequential()\n",
    "model.add(BatchNormalization())\n",
    "model.add(Dense(8192, activation='relu'))\n",
    "model.add(BatchNormalization())\n",
    "model.add(Dropout(0.5))\n",
    "model.add(Dense(2048, activation='relu'))\n",
    "model.add(BatchNormalization())\n",
    "model.add(Dropout(0.5))\n",
    "model.add(Dense(512, activation='relu'))\n",
    "model.add(BatchNormalization())\n",
    "model.add(Dropout(0.5))\n",
    "model.add(Dense(32, activation='relu'))\n",
    "model.add(BatchNormalization())\n",
    "model.add(Dropout(0.5))\n",
    "model.add(Dense(cat, activation='softmax'))"
   ]
  },
  {
   "cell_type": "code",
   "execution_count": 41,
   "metadata": {},
   "outputs": [],
   "source": [
    "model.compile(loss='categorical_crossentropy', optimizer = Adam(lr=1e-4), metrics=[\"accuracy\"])"
   ]
  },
  {
   "cell_type": "code",
   "execution_count": 42,
   "metadata": {},
   "outputs": [
    {
     "name": "stdout",
     "output_type": "stream",
     "text": [
      "Train on 685 samples, validate on 172 samples\n",
      "Epoch 1/200\n",
      "685/685 [==============================] - 2s 4ms/step - loss: 2.5741 - acc: 0.2569 - val_loss: 1.0396 - val_acc: 0.7616\n",
      "Epoch 2/200\n",
      "685/685 [==============================] - 1s 1ms/step - loss: 1.6509 - acc: 0.4905 - val_loss: 0.7726 - val_acc: 0.8198\n",
      "Epoch 3/200\n",
      "685/685 [==============================] - 1s 1ms/step - loss: 1.3124 - acc: 0.6219 - val_loss: 0.6206 - val_acc: 0.8605\n",
      "Epoch 4/200\n",
      "685/685 [==============================] - 1s 1ms/step - loss: 1.1503 - acc: 0.6715 - val_loss: 0.5480 - val_acc: 0.8837\n",
      "Epoch 5/200\n",
      "685/685 [==============================] - 1s 1ms/step - loss: 1.1657 - acc: 0.6730 - val_loss: 0.5258 - val_acc: 0.8663\n",
      "Epoch 6/200\n",
      "685/685 [==============================] - 1s 1ms/step - loss: 1.0720 - acc: 0.7182 - val_loss: 0.4851 - val_acc: 0.8779\n",
      "Epoch 7/200\n",
      "685/685 [==============================] - 1s 1ms/step - loss: 1.0054 - acc: 0.7358 - val_loss: 0.4289 - val_acc: 0.9070\n",
      "Epoch 8/200\n",
      "685/685 [==============================] - 1s 1ms/step - loss: 0.9665 - acc: 0.7285 - val_loss: 0.3973 - val_acc: 0.9070\n",
      "Epoch 9/200\n",
      "685/685 [==============================] - 1s 1ms/step - loss: 0.8868 - acc: 0.7737 - val_loss: 0.3787 - val_acc: 0.9360\n",
      "Epoch 10/200\n",
      "685/685 [==============================] - 1s 1ms/step - loss: 0.8483 - acc: 0.8058 - val_loss: 0.3795 - val_acc: 0.9302\n",
      "Epoch 11/200\n",
      "685/685 [==============================] - 1s 1ms/step - loss: 0.7781 - acc: 0.8073 - val_loss: 0.3586 - val_acc: 0.9419\n",
      "Epoch 12/200\n",
      "685/685 [==============================] - 1s 1ms/step - loss: 0.8043 - acc: 0.8058 - val_loss: 0.3367 - val_acc: 0.9477\n",
      "Epoch 13/200\n",
      "685/685 [==============================] - 1s 1ms/step - loss: 0.7487 - acc: 0.8219 - val_loss: 0.3306 - val_acc: 0.9477\n",
      "Epoch 14/200\n",
      "685/685 [==============================] - 1s 1ms/step - loss: 0.7299 - acc: 0.8277 - val_loss: 0.3141 - val_acc: 0.9535\n",
      "Epoch 15/200\n",
      "685/685 [==============================] - 1s 1ms/step - loss: 0.7260 - acc: 0.8234 - val_loss: 0.3068 - val_acc: 0.9593\n",
      "Epoch 16/200\n",
      "685/685 [==============================] - 1s 1ms/step - loss: 0.7009 - acc: 0.8526 - val_loss: 0.3047 - val_acc: 0.9535\n",
      "Epoch 17/200\n",
      "685/685 [==============================] - 1s 1ms/step - loss: 0.6555 - acc: 0.8555 - val_loss: 0.2994 - val_acc: 0.9535\n",
      "Epoch 18/200\n",
      "685/685 [==============================] - 1s 1ms/step - loss: 0.6408 - acc: 0.8642 - val_loss: 0.2947 - val_acc: 0.9593\n",
      "Epoch 19/200\n",
      "685/685 [==============================] - 1s 1ms/step - loss: 0.5870 - acc: 0.8759 - val_loss: 0.2924 - val_acc: 0.9651\n",
      "Epoch 20/200\n",
      "685/685 [==============================] - 1s 1ms/step - loss: 0.6290 - acc: 0.8686 - val_loss: 0.2896 - val_acc: 0.9651\n",
      "Epoch 21/200\n",
      "685/685 [==============================] - 1s 1ms/step - loss: 0.5991 - acc: 0.8745 - val_loss: 0.2857 - val_acc: 0.9593\n",
      "Epoch 22/200\n",
      "685/685 [==============================] - 1s 1ms/step - loss: 0.5932 - acc: 0.8672 - val_loss: 0.2805 - val_acc: 0.9593\n",
      "Epoch 23/200\n",
      "685/685 [==============================] - 1s 1ms/step - loss: 0.5534 - acc: 0.8832 - val_loss: 0.2701 - val_acc: 0.9651\n",
      "Epoch 24/200\n",
      "685/685 [==============================] - 1s 1ms/step - loss: 0.5264 - acc: 0.8759 - val_loss: 0.2638 - val_acc: 0.9651\n",
      "Epoch 25/200\n",
      "685/685 [==============================] - 1s 1ms/step - loss: 0.5438 - acc: 0.8920 - val_loss: 0.2613 - val_acc: 0.9593\n",
      "Epoch 26/200\n",
      "685/685 [==============================] - 1s 1ms/step - loss: 0.5597 - acc: 0.8949 - val_loss: 0.2554 - val_acc: 0.9709\n",
      "Epoch 27/200\n",
      "685/685 [==============================] - 1s 1ms/step - loss: 0.5441 - acc: 0.8861 - val_loss: 0.2626 - val_acc: 0.9593\n",
      "Epoch 28/200\n",
      "685/685 [==============================] - 1s 1ms/step - loss: 0.5658 - acc: 0.8686 - val_loss: 0.2583 - val_acc: 0.9651\n",
      "Epoch 29/200\n",
      "685/685 [==============================] - 1s 1ms/step - loss: 0.5136 - acc: 0.9007 - val_loss: 0.2530 - val_acc: 0.9593\n",
      "Epoch 30/200\n",
      "685/685 [==============================] - 1s 1ms/step - loss: 0.5218 - acc: 0.8978 - val_loss: 0.2435 - val_acc: 0.9593\n",
      "Epoch 31/200\n",
      "685/685 [==============================] - 1s 1ms/step - loss: 0.4821 - acc: 0.9080 - val_loss: 0.2375 - val_acc: 0.9593\n",
      "Epoch 32/200\n",
      "685/685 [==============================] - 1s 1ms/step - loss: 0.4872 - acc: 0.9095 - val_loss: 0.2361 - val_acc: 0.9535\n",
      "Epoch 33/200\n",
      "685/685 [==============================] - 1s 1ms/step - loss: 0.4475 - acc: 0.9168 - val_loss: 0.2322 - val_acc: 0.9593\n",
      "Epoch 34/200\n",
      "685/685 [==============================] - 1s 1ms/step - loss: 0.4760 - acc: 0.9109 - val_loss: 0.2293 - val_acc: 0.9651\n",
      "Epoch 35/200\n",
      "685/685 [==============================] - 1s 1ms/step - loss: 0.4892 - acc: 0.9095 - val_loss: 0.2213 - val_acc: 0.9709\n",
      "Epoch 36/200\n",
      "685/685 [==============================] - 1s 1ms/step - loss: 0.4498 - acc: 0.9139 - val_loss: 0.2184 - val_acc: 0.9651\n",
      "Epoch 37/200\n",
      "685/685 [==============================] - 1s 1ms/step - loss: 0.4265 - acc: 0.9299 - val_loss: 0.2195 - val_acc: 0.9651\n",
      "Epoch 38/200\n",
      "685/685 [==============================] - 1s 1ms/step - loss: 0.4149 - acc: 0.9168 - val_loss: 0.2120 - val_acc: 0.9651\n",
      "Epoch 39/200\n",
      "685/685 [==============================] - 1s 1ms/step - loss: 0.4183 - acc: 0.9270 - val_loss: 0.2129 - val_acc: 0.9709\n",
      "Epoch 40/200\n",
      "685/685 [==============================] - 1s 1ms/step - loss: 0.4002 - acc: 0.9153 - val_loss: 0.2145 - val_acc: 0.9767\n",
      "Epoch 41/200\n",
      "685/685 [==============================] - 1s 1ms/step - loss: 0.3763 - acc: 0.9343 - val_loss: 0.2140 - val_acc: 0.9709\n",
      "Epoch 42/200\n",
      "685/685 [==============================] - 1s 1ms/step - loss: 0.3876 - acc: 0.9372 - val_loss: 0.2106 - val_acc: 0.9593\n",
      "Epoch 43/200\n",
      "685/685 [==============================] - 1s 1ms/step - loss: 0.4046 - acc: 0.9270 - val_loss: 0.2087 - val_acc: 0.9767\n",
      "Epoch 44/200\n",
      "685/685 [==============================] - 1s 1ms/step - loss: 0.4060 - acc: 0.9358 - val_loss: 0.2068 - val_acc: 0.9767\n",
      "Epoch 45/200\n",
      "685/685 [==============================] - 1s 1ms/step - loss: 0.4176 - acc: 0.9095 - val_loss: 0.2096 - val_acc: 0.9651\n",
      "Epoch 46/200\n",
      "685/685 [==============================] - 1s 1ms/step - loss: 0.3727 - acc: 0.9358 - val_loss: 0.1994 - val_acc: 0.9767\n",
      "Epoch 47/200\n",
      "685/685 [==============================] - 1s 1ms/step - loss: 0.3542 - acc: 0.9314 - val_loss: 0.1971 - val_acc: 0.9709\n",
      "Epoch 48/200\n",
      "685/685 [==============================] - 1s 1ms/step - loss: 0.3689 - acc: 0.9387 - val_loss: 0.1925 - val_acc: 0.9651\n",
      "Epoch 49/200\n",
      "685/685 [==============================] - 1s 1ms/step - loss: 0.3552 - acc: 0.9431 - val_loss: 0.1916 - val_acc: 0.9767\n",
      "Epoch 50/200\n",
      "685/685 [==============================] - 1s 1ms/step - loss: 0.3564 - acc: 0.9387 - val_loss: 0.1990 - val_acc: 0.9767\n",
      "Epoch 51/200\n",
      "685/685 [==============================] - 1s 1ms/step - loss: 0.3881 - acc: 0.9314 - val_loss: 0.1872 - val_acc: 0.9767\n",
      "Epoch 52/200\n",
      "685/685 [==============================] - 1s 1ms/step - loss: 0.3477 - acc: 0.9416 - val_loss: 0.2114 - val_acc: 0.9593\n",
      "Epoch 53/200\n",
      "685/685 [==============================] - 1s 1ms/step - loss: 0.3563 - acc: 0.9431 - val_loss: 0.1931 - val_acc: 0.9709\n",
      "Epoch 54/200\n",
      "685/685 [==============================] - 1s 1ms/step - loss: 0.3293 - acc: 0.9474 - val_loss: 0.1899 - val_acc: 0.9593\n",
      "Epoch 55/200\n",
      "685/685 [==============================] - 1s 1ms/step - loss: 0.3162 - acc: 0.9489 - val_loss: 0.1813 - val_acc: 0.9593\n",
      "Epoch 56/200\n",
      "685/685 [==============================] - 1s 1ms/step - loss: 0.3146 - acc: 0.9504 - val_loss: 0.1716 - val_acc: 0.9709\n",
      "Epoch 57/200\n",
      "685/685 [==============================] - 1s 1ms/step - loss: 0.3028 - acc: 0.9547 - val_loss: 0.1798 - val_acc: 0.9651\n",
      "Epoch 58/200\n",
      "685/685 [==============================] - 1s 1ms/step - loss: 0.3042 - acc: 0.9577 - val_loss: 0.1737 - val_acc: 0.9767\n",
      "Epoch 59/200\n",
      "685/685 [==============================] - 1s 1ms/step - loss: 0.3114 - acc: 0.9460 - val_loss: 0.1708 - val_acc: 0.9709\n",
      "Epoch 60/200\n",
      "685/685 [==============================] - 1s 1ms/step - loss: 0.2649 - acc: 0.9635 - val_loss: 0.1702 - val_acc: 0.9709\n",
      "Epoch 61/200\n",
      "685/685 [==============================] - 1s 1ms/step - loss: 0.2960 - acc: 0.9606 - val_loss: 0.1686 - val_acc: 0.9767\n"
     ]
    },
    {
     "name": "stdout",
     "output_type": "stream",
     "text": [
      "Epoch 62/200\n",
      "685/685 [==============================] - 1s 1ms/step - loss: 0.2663 - acc: 0.9723 - val_loss: 0.1702 - val_acc: 0.9826\n",
      "Epoch 63/200\n",
      "685/685 [==============================] - 1s 1ms/step - loss: 0.2633 - acc: 0.9562 - val_loss: 0.1682 - val_acc: 0.9651\n",
      "Epoch 64/200\n",
      "685/685 [==============================] - 1s 1ms/step - loss: 0.2934 - acc: 0.9533 - val_loss: 0.1656 - val_acc: 0.9651\n",
      "Epoch 65/200\n",
      "685/685 [==============================] - 1s 1ms/step - loss: 0.2837 - acc: 0.9533 - val_loss: 0.1584 - val_acc: 0.9767\n",
      "Epoch 66/200\n",
      "685/685 [==============================] - 1s 1ms/step - loss: 0.2677 - acc: 0.9591 - val_loss: 0.1546 - val_acc: 0.9767\n",
      "Epoch 67/200\n",
      "685/685 [==============================] - 1s 1ms/step - loss: 0.2649 - acc: 0.9606 - val_loss: 0.1536 - val_acc: 0.9767\n",
      "Epoch 68/200\n",
      "685/685 [==============================] - 1s 1ms/step - loss: 0.2557 - acc: 0.9679 - val_loss: 0.1546 - val_acc: 0.9709\n",
      "Epoch 69/200\n",
      "685/685 [==============================] - 1s 1ms/step - loss: 0.2549 - acc: 0.9723 - val_loss: 0.1527 - val_acc: 0.9767\n",
      "Epoch 70/200\n",
      "685/685 [==============================] - 1s 1ms/step - loss: 0.2574 - acc: 0.9708 - val_loss: 0.1521 - val_acc: 0.9767\n",
      "Epoch 71/200\n",
      "685/685 [==============================] - 1s 1ms/step - loss: 0.2583 - acc: 0.9650 - val_loss: 0.1501 - val_acc: 0.9826\n",
      "Epoch 72/200\n",
      "685/685 [==============================] - 1s 1ms/step - loss: 0.2618 - acc: 0.9591 - val_loss: 0.1475 - val_acc: 0.9767\n",
      "Epoch 73/200\n",
      "685/685 [==============================] - 1s 1ms/step - loss: 0.2557 - acc: 0.9679 - val_loss: 0.1418 - val_acc: 0.9767\n",
      "Epoch 74/200\n",
      "685/685 [==============================] - 1s 1ms/step - loss: 0.2455 - acc: 0.9679 - val_loss: 0.1496 - val_acc: 0.9767\n",
      "Epoch 75/200\n",
      "685/685 [==============================] - 1s 1ms/step - loss: 0.2585 - acc: 0.9606 - val_loss: 0.1407 - val_acc: 0.9826\n",
      "Epoch 76/200\n",
      "685/685 [==============================] - 1s 1ms/step - loss: 0.2412 - acc: 0.9679 - val_loss: 0.1507 - val_acc: 0.9709\n",
      "Epoch 77/200\n",
      "685/685 [==============================] - 1s 1ms/step - loss: 0.2580 - acc: 0.9606 - val_loss: 0.1507 - val_acc: 0.9767\n",
      "Epoch 78/200\n",
      "685/685 [==============================] - 1s 1ms/step - loss: 0.2660 - acc: 0.9635 - val_loss: 0.1516 - val_acc: 0.9709\n",
      "Epoch 79/200\n",
      "685/685 [==============================] - 1s 1ms/step - loss: 0.2513 - acc: 0.9606 - val_loss: 0.1459 - val_acc: 0.9767\n",
      "Epoch 80/200\n",
      "685/685 [==============================] - 1s 1ms/step - loss: 0.2320 - acc: 0.9693 - val_loss: 0.1518 - val_acc: 0.9767\n",
      "Epoch 81/200\n",
      "685/685 [==============================] - 1s 1ms/step - loss: 0.2431 - acc: 0.9591 - val_loss: 0.1380 - val_acc: 0.9826\n",
      "Epoch 82/200\n",
      "685/685 [==============================] - 1s 1ms/step - loss: 0.2358 - acc: 0.9679 - val_loss: 0.1445 - val_acc: 0.9767\n",
      "Epoch 83/200\n",
      "685/685 [==============================] - 1s 1ms/step - loss: 0.2206 - acc: 0.9752 - val_loss: 0.1493 - val_acc: 0.9767\n",
      "Epoch 84/200\n",
      "685/685 [==============================] - 1s 1ms/step - loss: 0.2195 - acc: 0.9766 - val_loss: 0.1503 - val_acc: 0.9767\n",
      "Epoch 85/200\n",
      "685/685 [==============================] - 1s 1ms/step - loss: 0.2293 - acc: 0.9606 - val_loss: 0.1502 - val_acc: 0.9826\n",
      "Epoch 86/200\n",
      "685/685 [==============================] - 1s 1ms/step - loss: 0.2057 - acc: 0.9737 - val_loss: 0.1490 - val_acc: 0.9767\n",
      "Epoch 87/200\n",
      "685/685 [==============================] - 1s 1ms/step - loss: 0.2273 - acc: 0.9650 - val_loss: 0.1498 - val_acc: 0.9826\n",
      "Epoch 88/200\n",
      "685/685 [==============================] - 1s 1ms/step - loss: 0.2286 - acc: 0.9664 - val_loss: 0.1483 - val_acc: 0.9767\n",
      "Epoch 89/200\n",
      "685/685 [==============================] - 1s 1ms/step - loss: 0.2029 - acc: 0.9737 - val_loss: 0.1483 - val_acc: 0.9767\n",
      "Epoch 90/200\n",
      "685/685 [==============================] - 1s 1ms/step - loss: 0.2083 - acc: 0.9650 - val_loss: 0.1442 - val_acc: 0.9767\n",
      "Epoch 91/200\n",
      "685/685 [==============================] - 1s 1ms/step - loss: 0.2047 - acc: 0.9752 - val_loss: 0.1369 - val_acc: 0.9767\n",
      "Epoch 92/200\n",
      "685/685 [==============================] - 1s 1ms/step - loss: 0.2111 - acc: 0.9766 - val_loss: 0.1407 - val_acc: 0.9826\n",
      "Epoch 93/200\n",
      "685/685 [==============================] - 1s 1ms/step - loss: 0.2147 - acc: 0.9693 - val_loss: 0.1352 - val_acc: 0.9826\n",
      "Epoch 94/200\n",
      "685/685 [==============================] - 1s 1ms/step - loss: 0.2074 - acc: 0.9796 - val_loss: 0.1286 - val_acc: 0.9826\n",
      "Epoch 95/200\n",
      "685/685 [==============================] - 1s 1ms/step - loss: 0.1871 - acc: 0.9825 - val_loss: 0.1364 - val_acc: 0.9767\n",
      "Epoch 96/200\n",
      "685/685 [==============================] - 1s 1ms/step - loss: 0.1849 - acc: 0.9839 - val_loss: 0.1400 - val_acc: 0.9826\n",
      "Epoch 97/200\n",
      "685/685 [==============================] - 1s 1ms/step - loss: 0.1872 - acc: 0.9810 - val_loss: 0.1480 - val_acc: 0.9709\n",
      "Epoch 98/200\n",
      "685/685 [==============================] - 1s 1ms/step - loss: 0.1840 - acc: 0.9781 - val_loss: 0.1326 - val_acc: 0.9826\n",
      "Epoch 99/200\n",
      "685/685 [==============================] - 1s 1ms/step - loss: 0.1975 - acc: 0.9810 - val_loss: 0.1423 - val_acc: 0.9826\n",
      "Epoch 100/200\n",
      "685/685 [==============================] - 1s 1ms/step - loss: 0.1796 - acc: 0.9752 - val_loss: 0.1410 - val_acc: 0.9826\n",
      "Epoch 101/200\n",
      "685/685 [==============================] - 1s 1ms/step - loss: 0.1927 - acc: 0.9752 - val_loss: 0.1479 - val_acc: 0.9767\n",
      "Epoch 102/200\n",
      "685/685 [==============================] - 1s 1ms/step - loss: 0.1616 - acc: 0.9912 - val_loss: 0.1389 - val_acc: 0.9826\n",
      "Epoch 103/200\n",
      "685/685 [==============================] - 1s 1ms/step - loss: 0.1792 - acc: 0.9752 - val_loss: 0.1385 - val_acc: 0.9826\n",
      "Epoch 104/200\n",
      "685/685 [==============================] - 1s 1ms/step - loss: 0.1725 - acc: 0.9766 - val_loss: 0.1349 - val_acc: 0.9826\n",
      "Epoch 105/200\n",
      "685/685 [==============================] - 1s 1ms/step - loss: 0.1561 - acc: 0.9854 - val_loss: 0.1361 - val_acc: 0.9767\n",
      "Epoch 106/200\n",
      "685/685 [==============================] - 1s 1ms/step - loss: 0.1864 - acc: 0.9752 - val_loss: 0.1332 - val_acc: 0.9826\n",
      "Epoch 107/200\n",
      "685/685 [==============================] - 1s 1ms/step - loss: 0.1466 - acc: 0.9898 - val_loss: 0.1350 - val_acc: 0.9826\n",
      "Epoch 108/200\n",
      "685/685 [==============================] - 1s 1ms/step - loss: 0.1654 - acc: 0.9825 - val_loss: 0.1335 - val_acc: 0.9826\n",
      "Epoch 109/200\n",
      "685/685 [==============================] - 1s 1ms/step - loss: 0.1653 - acc: 0.9737 - val_loss: 0.1350 - val_acc: 0.9767\n",
      "Epoch 110/200\n",
      "685/685 [==============================] - 1s 1ms/step - loss: 0.1598 - acc: 0.9810 - val_loss: 0.1295 - val_acc: 0.9826\n",
      "Epoch 111/200\n",
      "685/685 [==============================] - 1s 1ms/step - loss: 0.1632 - acc: 0.9839 - val_loss: 0.1316 - val_acc: 0.9826\n",
      "Epoch 112/200\n",
      "685/685 [==============================] - 1s 1ms/step - loss: 0.1680 - acc: 0.9752 - val_loss: 0.1413 - val_acc: 0.9767\n",
      "Epoch 113/200\n",
      "685/685 [==============================] - 1s 1ms/step - loss: 0.1582 - acc: 0.9854 - val_loss: 0.1369 - val_acc: 0.9826\n",
      "Epoch 114/200\n",
      "685/685 [==============================] - 1s 1ms/step - loss: 0.1422 - acc: 0.9869 - val_loss: 0.1312 - val_acc: 0.9767\n",
      "Epoch 115/200\n",
      "685/685 [==============================] - 1s 1ms/step - loss: 0.1924 - acc: 0.9664 - val_loss: 0.1195 - val_acc: 0.9826\n",
      "Epoch 116/200\n",
      "685/685 [==============================] - 1s 1ms/step - loss: 0.1598 - acc: 0.9781 - val_loss: 0.1247 - val_acc: 0.9767\n",
      "Epoch 117/200\n",
      "685/685 [==============================] - 1s 1ms/step - loss: 0.1523 - acc: 0.9781 - val_loss: 0.1337 - val_acc: 0.9709\n",
      "Epoch 118/200\n",
      "685/685 [==============================] - 1s 1ms/step - loss: 0.1599 - acc: 0.9781 - val_loss: 0.1210 - val_acc: 0.9826\n",
      "Epoch 119/200\n",
      "685/685 [==============================] - 1s 1ms/step - loss: 0.1710 - acc: 0.9723 - val_loss: 0.1505 - val_acc: 0.9651\n",
      "Epoch 120/200\n",
      "685/685 [==============================] - 1s 1ms/step - loss: 0.1754 - acc: 0.9796 - val_loss: 0.1269 - val_acc: 0.9826\n",
      "Epoch 121/200\n",
      "685/685 [==============================] - 1s 1ms/step - loss: 0.1520 - acc: 0.9825 - val_loss: 0.1288 - val_acc: 0.9826\n",
      "Epoch 122/200\n",
      "685/685 [==============================] - 1s 1ms/step - loss: 0.1563 - acc: 0.9796 - val_loss: 0.1281 - val_acc: 0.9826\n"
     ]
    },
    {
     "name": "stdout",
     "output_type": "stream",
     "text": [
      "Epoch 123/200\n",
      "685/685 [==============================] - 1s 1ms/step - loss: 0.1450 - acc: 0.9839 - val_loss: 0.1378 - val_acc: 0.9767\n",
      "Epoch 124/200\n",
      "685/685 [==============================] - 1s 1ms/step - loss: 0.1313 - acc: 0.9854 - val_loss: 0.1268 - val_acc: 0.9826\n",
      "Epoch 125/200\n",
      "685/685 [==============================] - 1s 1ms/step - loss: 0.1523 - acc: 0.9752 - val_loss: 0.1312 - val_acc: 0.9826\n",
      "Epoch 126/200\n",
      "685/685 [==============================] - 1s 1ms/step - loss: 0.1748 - acc: 0.9635 - val_loss: 0.1389 - val_acc: 0.9709\n",
      "Epoch 127/200\n",
      "685/685 [==============================] - 1s 1ms/step - loss: 0.1288 - acc: 0.9854 - val_loss: 0.1336 - val_acc: 0.9767\n",
      "Epoch 128/200\n",
      "685/685 [==============================] - 1s 1ms/step - loss: 0.1674 - acc: 0.9693 - val_loss: 0.1496 - val_acc: 0.9709\n",
      "Epoch 129/200\n",
      "685/685 [==============================] - 1s 1ms/step - loss: 0.1412 - acc: 0.9752 - val_loss: 0.1344 - val_acc: 0.9826\n",
      "Epoch 130/200\n",
      "685/685 [==============================] - 1s 1ms/step - loss: 0.1505 - acc: 0.9781 - val_loss: 0.1483 - val_acc: 0.9709\n",
      "Epoch 131/200\n",
      "685/685 [==============================] - 1s 1ms/step - loss: 0.1618 - acc: 0.9766 - val_loss: 0.1370 - val_acc: 0.9767\n",
      "Epoch 132/200\n",
      "685/685 [==============================] - 1s 1ms/step - loss: 0.1379 - acc: 0.9898 - val_loss: 0.1417 - val_acc: 0.9709\n",
      "Epoch 133/200\n",
      "685/685 [==============================] - 1s 1ms/step - loss: 0.1645 - acc: 0.9723 - val_loss: 0.1259 - val_acc: 0.9826\n",
      "Epoch 134/200\n",
      "685/685 [==============================] - 1s 1ms/step - loss: 0.1270 - acc: 0.9854 - val_loss: 0.1229 - val_acc: 0.9826\n",
      "Epoch 135/200\n",
      "685/685 [==============================] - 1s 1ms/step - loss: 0.1385 - acc: 0.9810 - val_loss: 0.1272 - val_acc: 0.9826\n",
      "Epoch 136/200\n",
      "685/685 [==============================] - 1s 1ms/step - loss: 0.1450 - acc: 0.9839 - val_loss: 0.1322 - val_acc: 0.9826\n",
      "Epoch 137/200\n",
      "685/685 [==============================] - 1s 1ms/step - loss: 0.1535 - acc: 0.9708 - val_loss: 0.1192 - val_acc: 0.9826\n",
      "Epoch 138/200\n",
      "685/685 [==============================] - 1s 1ms/step - loss: 0.1663 - acc: 0.9679 - val_loss: 0.1268 - val_acc: 0.9767\n",
      "Epoch 139/200\n",
      "685/685 [==============================] - 1s 1ms/step - loss: 0.1357 - acc: 0.9825 - val_loss: 0.1217 - val_acc: 0.9826\n",
      "Epoch 140/200\n",
      "685/685 [==============================] - 1s 1ms/step - loss: 0.1374 - acc: 0.9869 - val_loss: 0.1264 - val_acc: 0.9826\n",
      "Epoch 141/200\n",
      "685/685 [==============================] - 1s 1ms/step - loss: 0.1266 - acc: 0.9883 - val_loss: 0.1364 - val_acc: 0.9767\n",
      "Epoch 142/200\n",
      "685/685 [==============================] - 1s 1ms/step - loss: 0.1322 - acc: 0.9869 - val_loss: 0.1252 - val_acc: 0.9826\n",
      "Epoch 143/200\n",
      "685/685 [==============================] - 1s 1ms/step - loss: 0.1148 - acc: 0.9956 - val_loss: 0.1226 - val_acc: 0.9826\n",
      "Epoch 144/200\n",
      "685/685 [==============================] - 1s 1ms/step - loss: 0.1402 - acc: 0.9796 - val_loss: 0.1258 - val_acc: 0.9767\n",
      "Epoch 145/200\n",
      "685/685 [==============================] - 1s 1ms/step - loss: 0.1302 - acc: 0.9825 - val_loss: 0.1227 - val_acc: 0.9826\n",
      "Epoch 146/200\n",
      "685/685 [==============================] - 1s 1ms/step - loss: 0.1253 - acc: 0.9854 - val_loss: 0.1246 - val_acc: 0.9826\n",
      "Epoch 147/200\n",
      "685/685 [==============================] - 1s 1ms/step - loss: 0.1406 - acc: 0.9766 - val_loss: 0.1293 - val_acc: 0.9826\n",
      "Epoch 148/200\n",
      "685/685 [==============================] - 1s 1ms/step - loss: 0.1118 - acc: 0.9839 - val_loss: 0.1190 - val_acc: 0.9826\n",
      "Epoch 149/200\n",
      "685/685 [==============================] - 1s 1ms/step - loss: 0.1141 - acc: 0.9869 - val_loss: 0.1256 - val_acc: 0.9826\n",
      "Epoch 150/200\n",
      "685/685 [==============================] - 1s 1ms/step - loss: 0.1049 - acc: 0.9883 - val_loss: 0.1274 - val_acc: 0.9826\n",
      "Epoch 151/200\n",
      "685/685 [==============================] - 1s 1ms/step - loss: 0.1171 - acc: 0.9854 - val_loss: 0.1273 - val_acc: 0.9826\n",
      "Epoch 152/200\n",
      "685/685 [==============================] - 1s 1ms/step - loss: 0.1128 - acc: 0.9869 - val_loss: 0.1349 - val_acc: 0.9767\n",
      "Epoch 153/200\n",
      "685/685 [==============================] - 1s 1ms/step - loss: 0.0947 - acc: 0.9927 - val_loss: 0.1261 - val_acc: 0.9826\n",
      "Epoch 154/200\n",
      "685/685 [==============================] - 1s 1ms/step - loss: 0.1337 - acc: 0.9854 - val_loss: 0.1220 - val_acc: 0.9826\n",
      "Epoch 155/200\n",
      "685/685 [==============================] - 1s 1ms/step - loss: 0.0956 - acc: 0.9912 - val_loss: 0.1346 - val_acc: 0.9767\n",
      "Epoch 156/200\n",
      "685/685 [==============================] - 1s 1ms/step - loss: 0.1060 - acc: 0.9898 - val_loss: 0.1293 - val_acc: 0.9826\n",
      "Epoch 157/200\n",
      "685/685 [==============================] - 1s 1ms/step - loss: 0.0851 - acc: 1.0000 - val_loss: 0.1297 - val_acc: 0.9826\n",
      "Epoch 158/200\n",
      "685/685 [==============================] - 1s 1ms/step - loss: 0.0998 - acc: 0.9883 - val_loss: 0.1326 - val_acc: 0.9826\n",
      "Epoch 159/200\n",
      "685/685 [==============================] - 1s 1ms/step - loss: 0.1025 - acc: 0.9883 - val_loss: 0.1260 - val_acc: 0.9826\n",
      "Epoch 160/200\n",
      "685/685 [==============================] - 1s 1ms/step - loss: 0.0982 - acc: 0.9927 - val_loss: 0.1366 - val_acc: 0.9826\n",
      "Epoch 161/200\n",
      "685/685 [==============================] - 1s 1ms/step - loss: 0.1227 - acc: 0.9839 - val_loss: 0.1389 - val_acc: 0.9767\n",
      "Epoch 162/200\n",
      "685/685 [==============================] - 1s 1ms/step - loss: 0.1187 - acc: 0.9854 - val_loss: 0.1295 - val_acc: 0.9826\n",
      "Epoch 163/200\n",
      "685/685 [==============================] - 1s 1ms/step - loss: 0.1356 - acc: 0.9752 - val_loss: 0.1287 - val_acc: 0.9767\n",
      "Epoch 164/200\n",
      "685/685 [==============================] - 1s 1ms/step - loss: 0.1258 - acc: 0.9766 - val_loss: 0.1345 - val_acc: 0.9767\n",
      "Epoch 165/200\n",
      "685/685 [==============================] - 1s 1ms/step - loss: 0.1075 - acc: 0.9912 - val_loss: 0.1331 - val_acc: 0.9826\n",
      "Epoch 166/200\n",
      "685/685 [==============================] - 1s 1ms/step - loss: 0.0951 - acc: 0.9912 - val_loss: 0.1396 - val_acc: 0.9767\n",
      "Epoch 167/200\n",
      "685/685 [==============================] - 1s 1ms/step - loss: 0.1073 - acc: 0.9927 - val_loss: 0.1394 - val_acc: 0.9767\n",
      "Epoch 168/200\n",
      "685/685 [==============================] - 1s 1ms/step - loss: 0.1071 - acc: 0.9781 - val_loss: 0.1292 - val_acc: 0.9826\n",
      "Epoch 169/200\n",
      "685/685 [==============================] - 1s 1ms/step - loss: 0.1094 - acc: 0.9869 - val_loss: 0.1222 - val_acc: 0.9826\n",
      "Epoch 170/200\n",
      "685/685 [==============================] - 1s 1ms/step - loss: 0.1097 - acc: 0.9869 - val_loss: 0.1509 - val_acc: 0.9709\n",
      "Epoch 171/200\n",
      "685/685 [==============================] - 1s 1ms/step - loss: 0.1133 - acc: 0.9898 - val_loss: 0.1274 - val_acc: 0.9826\n",
      "Epoch 172/200\n",
      "685/685 [==============================] - 1s 1ms/step - loss: 0.1021 - acc: 0.9839 - val_loss: 0.1225 - val_acc: 0.9826\n",
      "Epoch 173/200\n",
      "685/685 [==============================] - 1s 1ms/step - loss: 0.1205 - acc: 0.9766 - val_loss: 0.1532 - val_acc: 0.9651\n",
      "Epoch 174/200\n",
      "685/685 [==============================] - 1s 1ms/step - loss: 0.1139 - acc: 0.9825 - val_loss: 0.1446 - val_acc: 0.9709\n",
      "Epoch 175/200\n",
      "685/685 [==============================] - 1s 1ms/step - loss: 0.0946 - acc: 0.9956 - val_loss: 0.1323 - val_acc: 0.9826\n",
      "Epoch 176/200\n",
      "685/685 [==============================] - 1s 1ms/step - loss: 0.0896 - acc: 0.9883 - val_loss: 0.1269 - val_acc: 0.9826\n",
      "Epoch 177/200\n",
      "685/685 [==============================] - 1s 1ms/step - loss: 0.0964 - acc: 0.9883 - val_loss: 0.1465 - val_acc: 0.9709\n",
      "Epoch 178/200\n",
      "685/685 [==============================] - 1s 1ms/step - loss: 0.0911 - acc: 0.9898 - val_loss: 0.1336 - val_acc: 0.9826\n",
      "Epoch 179/200\n",
      "685/685 [==============================] - 1s 1ms/step - loss: 0.1025 - acc: 0.9883 - val_loss: 0.1409 - val_acc: 0.9767\n",
      "Epoch 180/200\n",
      "685/685 [==============================] - 1s 1ms/step - loss: 0.0865 - acc: 0.9898 - val_loss: 0.1323 - val_acc: 0.9826\n",
      "Epoch 181/200\n",
      "685/685 [==============================] - 1s 1ms/step - loss: 0.1033 - acc: 0.9854 - val_loss: 0.1743 - val_acc: 0.9709\n",
      "Epoch 182/200\n",
      "685/685 [==============================] - 1s 1ms/step - loss: 0.0962 - acc: 0.9825 - val_loss: 0.1389 - val_acc: 0.9826\n",
      "Epoch 183/200\n"
     ]
    },
    {
     "name": "stdout",
     "output_type": "stream",
     "text": [
      "685/685 [==============================] - 1s 1ms/step - loss: 0.0978 - acc: 0.9854 - val_loss: 0.1326 - val_acc: 0.9826\n",
      "Epoch 184/200\n",
      "685/685 [==============================] - 1s 1ms/step - loss: 0.1051 - acc: 0.9854 - val_loss: 0.1336 - val_acc: 0.9826\n",
      "Epoch 185/200\n",
      "685/685 [==============================] - 1s 1ms/step - loss: 0.1105 - acc: 0.9825 - val_loss: 0.1448 - val_acc: 0.9767\n",
      "Epoch 186/200\n",
      "685/685 [==============================] - 1s 1ms/step - loss: 0.0787 - acc: 0.9956 - val_loss: 0.1350 - val_acc: 0.9826\n",
      "Epoch 187/200\n",
      "685/685 [==============================] - 1s 1ms/step - loss: 0.0807 - acc: 0.9942 - val_loss: 0.1872 - val_acc: 0.9709\n",
      "Epoch 188/200\n",
      "685/685 [==============================] - 1s 1ms/step - loss: 0.0962 - acc: 0.9839 - val_loss: 0.1405 - val_acc: 0.9826\n",
      "Epoch 189/200\n",
      "685/685 [==============================] - 1s 1ms/step - loss: 0.0871 - acc: 0.9927 - val_loss: 0.1498 - val_acc: 0.9767\n",
      "Epoch 190/200\n",
      "685/685 [==============================] - 1s 1ms/step - loss: 0.0817 - acc: 0.9912 - val_loss: 0.1427 - val_acc: 0.9826\n",
      "Epoch 191/200\n",
      "685/685 [==============================] - 1s 1ms/step - loss: 0.0782 - acc: 0.9927 - val_loss: 0.1452 - val_acc: 0.9767\n",
      "Epoch 192/200\n",
      "685/685 [==============================] - 1s 1ms/step - loss: 0.0854 - acc: 0.9869 - val_loss: 0.1621 - val_acc: 0.9709\n",
      "Epoch 193/200\n",
      "685/685 [==============================] - 1s 1ms/step - loss: 0.0977 - acc: 0.9854 - val_loss: 0.1409 - val_acc: 0.9826\n",
      "Epoch 194/200\n",
      "685/685 [==============================] - 1s 1ms/step - loss: 0.0712 - acc: 0.9912 - val_loss: 0.1443 - val_acc: 0.9826\n",
      "Epoch 195/200\n",
      "685/685 [==============================] - 1s 1ms/step - loss: 0.0873 - acc: 0.9883 - val_loss: 0.1402 - val_acc: 0.9826\n",
      "Epoch 196/200\n",
      "685/685 [==============================] - 1s 1ms/step - loss: 0.0833 - acc: 0.9869 - val_loss: 0.1419 - val_acc: 0.9826\n",
      "Epoch 197/200\n",
      "685/685 [==============================] - 1s 1ms/step - loss: 0.0946 - acc: 0.9912 - val_loss: 0.1395 - val_acc: 0.9767\n",
      "Epoch 198/200\n",
      "685/685 [==============================] - 1s 1ms/step - loss: 0.0996 - acc: 0.9825 - val_loss: 0.1414 - val_acc: 0.9767\n",
      "Epoch 199/200\n",
      "685/685 [==============================] - 1s 1ms/step - loss: 0.0756 - acc: 0.9912 - val_loss: 0.1447 - val_acc: 0.9826\n",
      "Epoch 200/200\n",
      "685/685 [==============================] - 1s 1ms/step - loss: 0.0952 - acc: 0.9810 - val_loss: 0.1550 - val_acc: 0.9826\n"
     ]
    }
   ],
   "source": [
    "hist = model.fit(x_train, y_train,\n",
    "                           #steps_per_epoch=9000,\n",
    "                           epochs=200, #Increase this when not on Kaggle kernel\n",
    "                           validation_data=(x_dev, y_dev))\n",
    "                           #validation_steps = 1,\n",
    "                           #callbacks=[annealer])"
   ]
  },
  {
   "cell_type": "code",
   "execution_count": 43,
   "metadata": {
    "scrolled": true
   },
   "outputs": [
    {
     "data": {
      "image/png": "[encoded data removed]",
      "text/plain": [
       "<matplotlib.figure.Figure at 0x7f117dfa6b38>"
      ]
     },
     "metadata": {},
     "output_type": "display_data"
    },
    {
     "data": {
      "image/png": "[encoded data removed]",
      "text/plain": [
       "<matplotlib.figure.Figure at 0x7f117dfa6470>"
      ]
     },
     "metadata": {},
     "output_type": "display_data"
    }
   ],
   "source": [
    "plt.plot(hist.history['loss'], color='b')\n",
    "plt.plot(hist.history['val_loss'], color='r')\n",
    "plt.show()\n",
    "plt.plot(hist.history['acc'], color='b')\n",
    "plt.plot(hist.history['val_acc'], color='r')\n",
    "plt.show()"
   ]
  },
  {
   "cell_type": "code",
   "execution_count": 44,
   "metadata": {},
   "outputs": [
    {
     "name": "stdout",
     "output_type": "stream",
     "text": [
      "[[ 9  0  0  0  0  0  0  0  0  0  0  0  0  0  0]\n",
      " [ 0  5  0  0  0  0  0  0  0  0  0  0  0  0  0]\n",
      " [ 0  0  7  0  0  0  0  0  0  0  0  0  0  0  0]\n",
      " [ 0  0  0 14  0  0  0  0  0  0  0  0  0  0  0]\n",
      " [ 0  0  0  0  7  0  0  0  0  0  0  0  0  0  0]\n",
      " [ 0  0  1  0  0 13  0  0  0  0  0  0  0  0  0]\n",
      " [ 0  0  0  0  0  0 10  0  0  0  0  0  0  0  0]\n",
      " [ 0  0  0  0  1  0  0  9  0  0  0  0  0  0  0]\n",
      " [ 0  0  0  0  0  0  1  0 13  0  0  0  0  0  0]\n",
      " [ 0  0  0  0  0  0  0  0  0  8  0  0  0  0  0]\n",
      " [ 0  0  0  0  0  0  0  0  0  0 17  0  0  0  0]\n",
      " [ 0  0  0  0  0  0  0  0  0  0  0 13  0  0  0]\n",
      " [ 0  0  0  0  0  0  0  0  0  0  0  0 16  0  0]\n",
      " [ 0  0  0  0  0  0  0  0  0  0  0  0  0 15  0]\n",
      " [ 0  0  0  0  0  0  0  0  0  0  0  0  0  0 13]]\n"
     ]
    }
   ],
   "source": [
    "y_hat = model.predict(x_dev)\n",
    "y_pred = np.argmax(y_hat, axis=1)\n",
    "y_true = np.argmax(y_dev, axis=1)\n",
    "cm = confusion_matrix(y_true, y_pred)\n",
    "print(cm)"
   ]
  },
  {
   "cell_type": "code",
   "execution_count": 46,
   "metadata": {},
   "outputs": [],
   "source": [
    "from keras.utils import plot_model\n",
    "plot_model(model, to_file='model.png',show_shapes = True)"
   ]
  }
 ],
 "metadata": {
  "kernelspec": {
   "display_name": "Python 3",
   "language": "python",
   "name": "python3"
  },
  "language_info": {
   "codemirror_mode": {
    "name": "ipython",
    "version": 3
   },
   "file_extension": ".py",
   "mimetype": "text/x-python",
   "name": "python",
   "nbconvert_exporter": "python",
   "pygments_lexer": "ipython3",
   "version": "3.5.2"
  }
 },
 "nbformat": 4,
 "nbformat_minor": 2
}
